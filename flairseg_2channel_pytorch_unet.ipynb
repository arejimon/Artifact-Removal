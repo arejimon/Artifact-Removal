{
  "cells": [
    {
      "cell_type": "markdown",
      "metadata": {
        "id": "view-in-github",
        "colab_type": "text"
      },
      "source": [
        "<a href=\"https://colab.research.google.com/github/arejimon/Artifact-Removal/blob/main/flairseg_2channel_pytorch_unet.ipynb\" target=\"_parent\"><img src=\"https://colab.research.google.com/assets/colab-badge.svg\" alt=\"Open In Colab\"/></a>"
      ]
    },
    {
      "cell_type": "markdown",
      "id": "084a71d5",
      "metadata": {
        "id": "084a71d5"
      },
      "source": [
        "### This notebook is optionally accelerated with a GPU runtime.\n",
        "### If you would like to use this acceleration, please select the menu option \"Runtime\" -> \"Change runtime type\", select \"Hardware Accelerator\" -> \"GPU\" and click \"SAVE\"\n",
        "\n",
        "----------------------------------------------------------------------\n",
        "\n",
        "# U-Net for brain MRI\n",
        "\n",
        "*Author: mateuszbuda*\n",
        "\n",
        "**U-Net with batch normalization for biomedical image segmentation with pretrained weights for abnormality segmentation in brain MRI**\n",
        "\n",
        "<img src=\"https://pytorch.org/assets/images/unet_brain_mri.png\" alt=\"alt\" width=\"50%\"/>"
      ]
    },
    {
      "cell_type": "code",
      "source": [
        "!pip install dash\n",
        "!pip install itk\n",
        "!pip install SimpleITK"
      ],
      "metadata": {
        "colab": {
          "base_uri": "https://localhost:8080/"
        },
        "id": "2SNMgGr0H5Ut",
        "outputId": "d8c4d886-bac5-485a-b492-dc2ea0a8190d"
      },
      "id": "2SNMgGr0H5Ut",
      "execution_count": 1,
      "outputs": [
        {
          "output_type": "stream",
          "name": "stdout",
          "text": [
            "Collecting dash\n",
            "  Downloading dash-2.14.2-py3-none-any.whl (10.2 MB)\n",
            "\u001b[2K     \u001b[90m━━━━━━━━━━━━━━━━━━━━━━━━━━━━━━━━━━━━━━━━\u001b[0m \u001b[32m10.2/10.2 MB\u001b[0m \u001b[31m28.8 MB/s\u001b[0m eta \u001b[36m0:00:00\u001b[0m\n",
            "\u001b[?25hRequirement already satisfied: Flask<3.1,>=1.0.4 in /usr/local/lib/python3.10/dist-packages (from dash) (2.2.5)\n",
            "Requirement already satisfied: Werkzeug<3.1 in /usr/local/lib/python3.10/dist-packages (from dash) (3.0.1)\n",
            "Requirement already satisfied: plotly>=5.0.0 in /usr/local/lib/python3.10/dist-packages (from dash) (5.15.0)\n",
            "Collecting dash-html-components==2.0.0 (from dash)\n",
            "  Downloading dash_html_components-2.0.0-py3-none-any.whl (4.1 kB)\n",
            "Collecting dash-core-components==2.0.0 (from dash)\n",
            "  Downloading dash_core_components-2.0.0-py3-none-any.whl (3.8 kB)\n",
            "Collecting dash-table==5.0.0 (from dash)\n",
            "  Downloading dash_table-5.0.0-py3-none-any.whl (3.9 kB)\n",
            "Requirement already satisfied: typing-extensions>=4.1.1 in /usr/local/lib/python3.10/dist-packages (from dash) (4.5.0)\n",
            "Requirement already satisfied: requests in /usr/local/lib/python3.10/dist-packages (from dash) (2.31.0)\n",
            "Collecting retrying (from dash)\n",
            "  Downloading retrying-1.3.4-py3-none-any.whl (11 kB)\n",
            "Collecting ansi2html (from dash)\n",
            "  Downloading ansi2html-1.9.1-py3-none-any.whl (17 kB)\n",
            "Requirement already satisfied: nest-asyncio in /usr/local/lib/python3.10/dist-packages (from dash) (1.6.0)\n",
            "Requirement already satisfied: setuptools in /usr/local/lib/python3.10/dist-packages (from dash) (67.7.2)\n",
            "Requirement already satisfied: importlib-metadata in /usr/local/lib/python3.10/dist-packages (from dash) (7.0.1)\n",
            "Requirement already satisfied: Jinja2>=3.0 in /usr/local/lib/python3.10/dist-packages (from Flask<3.1,>=1.0.4->dash) (3.1.3)\n",
            "Requirement already satisfied: itsdangerous>=2.0 in /usr/local/lib/python3.10/dist-packages (from Flask<3.1,>=1.0.4->dash) (2.1.2)\n",
            "Requirement already satisfied: click>=8.0 in /usr/local/lib/python3.10/dist-packages (from Flask<3.1,>=1.0.4->dash) (8.1.7)\n",
            "Requirement already satisfied: tenacity>=6.2.0 in /usr/local/lib/python3.10/dist-packages (from plotly>=5.0.0->dash) (8.2.3)\n",
            "Requirement already satisfied: packaging in /usr/local/lib/python3.10/dist-packages (from plotly>=5.0.0->dash) (23.2)\n",
            "Requirement already satisfied: MarkupSafe>=2.1.1 in /usr/local/lib/python3.10/dist-packages (from Werkzeug<3.1->dash) (2.1.4)\n",
            "Requirement already satisfied: zipp>=0.5 in /usr/local/lib/python3.10/dist-packages (from importlib-metadata->dash) (3.17.0)\n",
            "Requirement already satisfied: charset-normalizer<4,>=2 in /usr/local/lib/python3.10/dist-packages (from requests->dash) (3.3.2)\n",
            "Requirement already satisfied: idna<4,>=2.5 in /usr/local/lib/python3.10/dist-packages (from requests->dash) (3.6)\n",
            "Requirement already satisfied: urllib3<3,>=1.21.1 in /usr/local/lib/python3.10/dist-packages (from requests->dash) (2.0.7)\n",
            "Requirement already satisfied: certifi>=2017.4.17 in /usr/local/lib/python3.10/dist-packages (from requests->dash) (2023.11.17)\n",
            "Requirement already satisfied: six>=1.7.0 in /usr/local/lib/python3.10/dist-packages (from retrying->dash) (1.16.0)\n",
            "Installing collected packages: dash-table, dash-html-components, dash-core-components, retrying, ansi2html, dash\n",
            "Successfully installed ansi2html-1.9.1 dash-2.14.2 dash-core-components-2.0.0 dash-html-components-2.0.0 dash-table-5.0.0 retrying-1.3.4\n",
            "Collecting itk\n",
            "  Downloading itk-5.3.0-cp310-cp310-manylinux_2_28_x86_64.whl (8.3 kB)\n",
            "Collecting itk-core==5.3.0 (from itk)\n",
            "  Downloading itk_core-5.3.0-cp310-cp310-manylinux_2_28_x86_64.whl (81.2 MB)\n",
            "\u001b[2K     \u001b[90m━━━━━━━━━━━━━━━━━━━━━━━━━━━━━━━━━━━━━━━━\u001b[0m \u001b[32m81.2/81.2 MB\u001b[0m \u001b[31m8.2 MB/s\u001b[0m eta \u001b[36m0:00:00\u001b[0m\n",
            "\u001b[?25hCollecting itk-numerics==5.3.0 (from itk)\n",
            "  Downloading itk_numerics-5.3.0-cp310-cp310-manylinux_2_28_x86_64.whl (58.8 MB)\n",
            "\u001b[2K     \u001b[90m━━━━━━━━━━━━━━━━━━━━━━━━━━━━━━━━━━━━━━━━\u001b[0m \u001b[32m58.8/58.8 MB\u001b[0m \u001b[31m11.6 MB/s\u001b[0m eta \u001b[36m0:00:00\u001b[0m\n",
            "\u001b[?25hCollecting itk-io==5.3.0 (from itk)\n",
            "  Downloading itk_io-5.3.0-cp310-cp310-manylinux_2_28_x86_64.whl (25.6 MB)\n",
            "\u001b[2K     \u001b[90m━━━━━━━━━━━━━━━━━━━━━━━━━━━━━━━━━━━━━━━━\u001b[0m \u001b[32m25.6/25.6 MB\u001b[0m \u001b[31m43.8 MB/s\u001b[0m eta \u001b[36m0:00:00\u001b[0m\n",
            "\u001b[?25hCollecting itk-filtering==5.3.0 (from itk)\n",
            "  Downloading itk_filtering-5.3.0-cp310-cp310-manylinux_2_28_x86_64.whl (73.5 MB)\n",
            "\u001b[2K     \u001b[90m━━━━━━━━━━━━━━━━━━━━━━━━━━━━━━━━━━━━━━━━\u001b[0m \u001b[32m73.5/73.5 MB\u001b[0m \u001b[31m8.6 MB/s\u001b[0m eta \u001b[36m0:00:00\u001b[0m\n",
            "\u001b[?25hCollecting itk-registration==5.3.0 (from itk)\n",
            "  Downloading itk_registration-5.3.0-cp310-cp310-manylinux_2_28_x86_64.whl (26.6 MB)\n",
            "\u001b[2K     \u001b[90m━━━━━━━━━━━━━━━━━━━━━━━━━━━━━━━━━━━━━━━━\u001b[0m \u001b[32m26.6/26.6 MB\u001b[0m \u001b[31m45.0 MB/s\u001b[0m eta \u001b[36m0:00:00\u001b[0m\n",
            "\u001b[?25hCollecting itk-segmentation==5.3.0 (from itk)\n",
            "  Downloading itk_segmentation-5.3.0-cp310-cp310-manylinux_2_28_x86_64.whl (16.5 MB)\n",
            "\u001b[2K     \u001b[90m━━━━━━━━━━━━━━━━━━━━━━━━━━━━━━━━━━━━━━━━\u001b[0m \u001b[32m16.5/16.5 MB\u001b[0m \u001b[31m49.3 MB/s\u001b[0m eta \u001b[36m0:00:00\u001b[0m\n",
            "\u001b[?25hRequirement already satisfied: numpy in /usr/local/lib/python3.10/dist-packages (from itk) (1.23.5)\n",
            "Installing collected packages: itk-core, itk-numerics, itk-io, itk-filtering, itk-segmentation, itk-registration, itk\n",
            "Successfully installed itk-5.3.0 itk-core-5.3.0 itk-filtering-5.3.0 itk-io-5.3.0 itk-numerics-5.3.0 itk-registration-5.3.0 itk-segmentation-5.3.0\n",
            "Collecting SimpleITK\n",
            "  Downloading SimpleITK-2.3.1-cp310-cp310-manylinux_2_17_x86_64.manylinux2014_x86_64.whl (52.7 MB)\n",
            "\u001b[2K     \u001b[90m━━━━━━━━━━━━━━━━━━━━━━━━━━━━━━━━━━━━━━━━\u001b[0m \u001b[32m52.7/52.7 MB\u001b[0m \u001b[31m11.8 MB/s\u001b[0m eta \u001b[36m0:00:00\u001b[0m\n",
            "\u001b[?25hInstalling collected packages: SimpleITK\n",
            "Successfully installed SimpleITK-2.3.1\n"
          ]
        }
      ]
    },
    {
      "cell_type": "code",
      "source": [
        "import dash\n",
        "import itk\n",
        "import SimpleITK as sitk\n",
        "import matplotlib.pyplot as plt\n",
        "import numpy as np\n",
        "import os\n",
        "from pathlib import Path\n",
        "import torch\n",
        "\n",
        "# from nnfit.utils.image import itk_to_sitk\n",
        "# from nnfit.data.midas import *\n",
        "# from nnfit.xtra.dash_slicer import VolumeSlicer"
      ],
      "metadata": {
        "id": "nqOtPpJrH0SU"
      },
      "id": "nqOtPpJrH0SU",
      "execution_count": 2,
      "outputs": []
    },
    {
      "cell_type": "code",
      "source": [],
      "metadata": {
        "id": "AOV_UZqrH3z7"
      },
      "id": "AOV_UZqrH3z7",
      "execution_count": null,
      "outputs": []
    },
    {
      "cell_type": "code",
      "execution_count": 3,
      "id": "6cde0d19",
      "metadata": {
        "id": "6cde0d19",
        "colab": {
          "base_uri": "https://localhost:8080/"
        },
        "outputId": "56b6943d-c9ec-489d-ffbd-0fdde552c117"
      },
      "outputs": [
        {
          "output_type": "stream",
          "name": "stderr",
          "text": [
            "You are about to download and run code from an untrusted repository. In a future release, this won't be allowed. To add the repository to your trusted list, change the command to {calling_fn}(..., trust_repo=False) and a command prompt will appear asking for an explicit confirmation of trust, or load(..., trust_repo=True), which will assume that the prompt is to be answered with 'yes'. You can also use load(..., trust_repo='check') which will only prompt for confirmation if the repo is not already trusted. This will eventually be the default behaviour\n",
            "Downloading: \"https://github.com/mateuszbuda/brain-segmentation-pytorch/zipball/master\" to /root/.cache/torch/hub/master.zip\n",
            "Downloading: \"https://github.com/mateuszbuda/brain-segmentation-pytorch/releases/download/v1.0/unet-e012d006.pt\" to /root/.cache/torch/hub/checkpoints/unet-e012d006.pt\n"
          ]
        }
      ],
      "source": [
        "model = torch.hub.load('mateuszbuda/brain-segmentation-pytorch', 'unet',\n",
        "    in_channels=3, out_channels=1, init_features=32, pretrained=True)\n"
      ]
    },
    {
      "cell_type": "code",
      "source": [],
      "metadata": {
        "id": "DJ2mywgMlpag"
      },
      "id": "DJ2mywgMlpag",
      "execution_count": null,
      "outputs": []
    },
    {
      "cell_type": "code",
      "source": [
        "t1_img = sitk.ReadImage(f\"/workspace/Dropbox/nn/artifact/t1_EM004_0_strip.nii.gz\", imageIO=\"NiftiImageIO\")\n",
        "print(t1_img.GetSize())\n",
        "\n",
        "mask_img = sitk.ReadImage(f\"/workspace/Dropbox/nn/artifact/t1_EM004_0_strip_mask.nii.gz\", imageIO=\"NiftiImageIO\")\n",
        "print(mask_img.GetSize())\n",
        "\n",
        "flair_img = sitk.ReadImage(f\"/workspace/Dropbox/nn/artifact/flair_EM004_0_strip.nii.gz\", imageIO=\"NiftiImageIO\")\n",
        "print(flair_img.GetSize())\n",
        "\n",
        "flair_img, _ = register_routine(t1_img, flair_img, learn_rate=4.0, stop=0.01, max_steps=50, rotate=False, log=True)\n",
        "flair_img, _ = register_routine(t1_img, flair_img, learn_rate=0.01, stop=0.001, max_steps=50, rotate=True, log=True)\n"
      ],
      "metadata": {
        "id": "LIxYQtXARa2L"
      },
      "id": "LIxYQtXARa2L",
      "execution_count": null,
      "outputs": []
    },
    {
      "cell_type": "code",
      "source": [
        "os.makedirs(\"/workspace/Dropbox/nn/artifact/data/\", exist_ok=True)"
      ],
      "metadata": {
        "id": "TLO93szKRgAz"
      },
      "id": "TLO93szKRgAz",
      "execution_count": null,
      "outputs": []
    },
    {
      "cell_type": "code",
      "source": [
        "for i in range(flair_img.GetSize()[2]):\n",
        "    writer = sitk.ImageFileWriter()\n",
        "    writer.SetFileName(f\"/workspace/Dropbox/nn/artifact/data/flair_EM004_0_slice_{i}.tif\")\n",
        "    writer.Execute(flair_vol[:,:,:,i])"
      ],
      "metadata": {
        "id": "OiV5LCl4RggP"
      },
      "id": "OiV5LCl4RggP",
      "execution_count": null,
      "outputs": []
    },
    {
      "cell_type": "code",
      "source": [
        "flair_vol = sitk.PermuteAxes(sitk.JoinSeries([flair_img, flair_img, flair_img]), [3,0,1,2])"
      ],
      "metadata": {
        "id": "yGeXjSn3RiKG"
      },
      "id": "yGeXjSn3RiKG",
      "execution_count": null,
      "outputs": []
    },
    {
      "cell_type": "code",
      "source": [
        "flair_vol.GetSize()"
      ],
      "metadata": {
        "id": "_9uQN9vcRjf9"
      },
      "id": "_9uQN9vcRjf9",
      "execution_count": null,
      "outputs": []
    },
    {
      "cell_type": "code",
      "source": [
        "plt.imshow(sitk.GetArrayFromImage(t1_img)[70, ...])\n",
        "plt.figure()\n",
        "plt.imshow(sitk.GetArrayFromImage(flair_img)[70, ...])\n",
        "#plt.imshow(sitk.GetArrayFromImage(t1_img)[10, ...])\n",
        "#plt.figure()\n",
        "#plt.imshow(sitk.GetArrayFromImage(flair_img)[10, ...])"
      ],
      "metadata": {
        "id": "pRox2kAfRk9i"
      },
      "id": "pRox2kAfRk9i",
      "execution_count": null,
      "outputs": []
    },
    {
      "cell_type": "code",
      "source": [],
      "metadata": {
        "id": "IiLdrjz6RuHM"
      },
      "id": "IiLdrjz6RuHM",
      "execution_count": null,
      "outputs": []
    },
    {
      "cell_type": "code",
      "source": [],
      "metadata": {
        "id": "dlxp36V7RoVM"
      },
      "id": "dlxp36V7RoVM",
      "execution_count": null,
      "outputs": []
    },
    {
      "cell_type": "markdown",
      "id": "fc1b4031",
      "metadata": {
        "id": "fc1b4031"
      },
      "source": [
        "Loads a U-Net model pre-trained for abnormality segmentation on a dataset of brain MRI volumes [kaggle.com/mateuszbuda/lgg-mri-segmentation](https://www.kaggle.com/mateuszbuda/lgg-mri-segmentation)\n",
        "The pre-trained model requires 3 input channels, 1 output channel, and 32 features in the first layer.\n",
        "\n",
        "### Model Description\n",
        "\n",
        "This U-Net model comprises four levels of blocks containing two convolutional layers with batch normalization and ReLU activation function, and one max pooling layer in the encoding part and up-convolutional layers instead in the decoding part.\n",
        "The number of convolutional filters in each block is 32, 64, 128, and 256.\n",
        "The bottleneck layer has 512 convolutional filters.\n",
        "From the encoding layers, skip connections are used to the corresponding layers in the decoding part.\n",
        "Input image is a 3-channel brain MRI slice from pre-contrast, FLAIR, and post-contrast sequences, respectively.\n",
        "Output is a one-channel probability map of abnormality regions with the same size as the input image.\n",
        "It can be transformed to a binary segmentation mask by thresholding as shown in the example below.\n",
        "\n",
        "### Example\n",
        "\n",
        "Input images for pre-trained model should have 3 channels and be resized to 256x256 pixels and z-score normalized per volume."
      ]
    },
    {
      "cell_type": "code",
      "execution_count": null,
      "id": "4c5d6771",
      "metadata": {
        "id": "4c5d6771"
      },
      "outputs": [],
      "source": [
        "# Download an example image\n",
        "import urllib\n",
        "url, filename = (\"https://github.com/mateuszbuda/brain-segmentation-pytorch/raw/master/assets/TCGA_CS_4944.png\", \"TCGA_CS_4944.png\")\n",
        "try: urllib.URLopener().retrieve(url, filename)\n",
        "except: urllib.request.urlretrieve(url, filename)"
      ]
    },
    {
      "cell_type": "code",
      "execution_count": null,
      "id": "658d727c",
      "metadata": {
        "id": "658d727c"
      },
      "outputs": [],
      "source": [
        "import numpy as np\n",
        "from PIL import Image\n",
        "from torchvision import transforms\n",
        "\n",
        "input_image = Image.open(filename)\n",
        "m, s = np.mean(input_image, axis=(0, 1)), np.std(input_image, axis=(0, 1))\n",
        "preprocess = transforms.Compose([\n",
        "    transforms.ToTensor(),\n",
        "    transforms.Normalize(mean=m, std=s),\n",
        "])\n",
        "input_tensor = preprocess(input_image)\n",
        "input_batch = input_tensor.unsqueeze(0)\n",
        "\n"
      ]
    },
    {
      "cell_type": "code",
      "source": [
        "flair_img = preprocess_img(flair_img)\n",
        "t1_img = preprocess_img(t1_img)"
      ],
      "metadata": {
        "id": "jKAO7i_UR51P"
      },
      "id": "jKAO7i_UR51P",
      "execution_count": null,
      "outputs": []
    },
    {
      "cell_type": "code",
      "source": [
        "plt.imshow(sitk.GetArrayFromImage(t1_img)[70, ...])\n",
        "plt.figure()\n",
        "plt.imshow(sitk.GetArrayFromImage(flair_img)[70, ...])\n",
        "#plt.imshow(sitk.GetArrayFromImage(t1_img)[10, ...])\n",
        "#plt.figure()\n",
        "#plt.imshow(sitk.GetArrayFromImage(flair_img)[10, ...])"
      ],
      "metadata": {
        "id": "scXMTw-DR7HQ"
      },
      "id": "scXMTw-DR7HQ",
      "execution_count": null,
      "outputs": []
    },
    {
      "cell_type": "code",
      "source": [
        "arr_t1 = sitk.GetArrayFromImage(t1_img)\n",
        "arr_flair = sitk.GetArrayFromImage(flair_img)\n",
        "arr_mask = sitk.GetArrayFromImage(mask_img)\n",
        "plt.hist(arr_t1[np.where(arr_mask)])\n",
        "plt.figure()\n",
        "plt.hist(arr_t1.flatten())"
      ],
      "metadata": {
        "id": "Qu6gmuBwR8bC"
      },
      "id": "Qu6gmuBwR8bC",
      "execution_count": null,
      "outputs": []
    },
    {
      "cell_type": "code",
      "source": [
        "def load_img(t1, flair, mask):\n",
        "    \"\"\"\"\"\"\n",
        "    t1 = sitk.GetArrayFromImage(t1)\n",
        "    flair = sitk.GetArrayFromImage(flair)\n",
        "    mask = sitk.GetArrayFromImage(mask)\n",
        "\n",
        "    arg_mask = np.where(mask == 1)\n",
        "    anti_mask = np.where(mask == 0)\n",
        "\n",
        "    t1_mean = np.mean(t1[arg_mask])\n",
        "    t1_std = np.std(t1[arg_mask])\n",
        "\n",
        "    flair_mean = np.mean(flair[arg_mask])\n",
        "    flair_std = np.std(flair[arg_mask])\n",
        "\n",
        "    t1 = (t1 - t1_mean) / t1_std\n",
        "    flair = (flair - flair_mean) / flair_std\n",
        "\n",
        "    #t1[anti_mask] = 0.0\n",
        "    #flair[anti_mask] = 0.0\n",
        "\n",
        "    t1 = t1[:, None, ...].astype(np.float32)\n",
        "    flair = flair[:, None, ...].astype(np.float32)\n",
        "\n",
        "    t1 = torch.from_numpy(t1)\n",
        "    flair = torch.from_numpy(flair)\n",
        "\n",
        "    image = torch.concatenate([flair, flair, flair], axis=1)\n",
        "    #image = (image - torch.mean(image)) / torch.std(image)\n",
        "\n",
        "    return image"
      ],
      "metadata": {
        "id": "21LbIetZSAqG"
      },
      "id": "21LbIetZSAqG",
      "execution_count": null,
      "outputs": []
    },
    {
      "cell_type": "code",
      "source": [
        "image = load_img(t1_img, flair_img, mask_img)"
      ],
      "metadata": {
        "id": "L4A7lGvUSCu5"
      },
      "id": "L4A7lGvUSCu5",
      "execution_count": null,
      "outputs": []
    },
    {
      "cell_type": "code",
      "source": [
        "with torch.no_grad():\n",
        "    result = model(image)"
      ],
      "metadata": {
        "id": "LsP6YCTNSEUj"
      },
      "id": "LsP6YCTNSEUj",
      "execution_count": null,
      "outputs": []
    },
    {
      "cell_type": "code",
      "source": [
        "fig, ax = plt.subplots(1,3,figsize=(18,6))\n",
        "z = 70\n",
        "ax[0].imshow(result[z,0,...].detach().numpy())\n",
        "ax[1].imshow(image[z,0,...].detach().numpy(), cmap='gray')\n",
        "ax[2].imshow(image[z,1,...].detach().numpy(), cmap='gray')"
      ],
      "metadata": {
        "id": "R5GvPFUFSF68"
      },
      "id": "R5GvPFUFSF68",
      "execution_count": null,
      "outputs": []
    },
    {
      "cell_type": "code",
      "source": [
        "# if torch.cuda.is_available():\n",
        "#     input_batch = input_batch.to('cuda')\n",
        "#     model = model.to('cuda')\n",
        "\n",
        "# with torch.no_grad():\n",
        "#     output = model(input_batch)\n",
        "\n",
        "# print(torch.round(output[0]))"
      ],
      "metadata": {
        "id": "qsNl46zsR5FB"
      },
      "id": "qsNl46zsR5FB",
      "execution_count": null,
      "outputs": []
    },
    {
      "cell_type": "markdown",
      "id": "622f158e",
      "metadata": {
        "id": "622f158e"
      },
      "source": [
        "### References\n",
        "\n",
        "- [Association of genomic subtypes of lower-grade gliomas with shape features automatically extracted by a deep learning algorithm](http://arxiv.org/abs/1906.03720)\n",
        "- [U-Net: Convolutional Networks for Biomedical Image Segmentation](https://arxiv.org/abs/1505.04597)\n",
        "- [Brain MRI segmentation dataset](https://www.kaggle.com/mateuszbuda/lgg-mri-segmentation)"
      ]
    }
  ],
  "metadata": {
    "colab": {
      "provenance": [],
      "include_colab_link": true
    },
    "language_info": {
      "name": "python"
    },
    "kernelspec": {
      "name": "python3",
      "display_name": "Python 3"
    }
  },
  "nbformat": 4,
  "nbformat_minor": 5
}